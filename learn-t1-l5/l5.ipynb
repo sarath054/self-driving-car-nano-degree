{
 "cells": [
  {
   "cell_type": "markdown",
   "metadata": {
    "deletable": true,
    "editable": true
   },
   "source": [
    "# Introduction To Neural Networks\n",
    "Learn linear regression, perceptron, gradient descent "
   ]
  },
  {
   "cell_type": "markdown",
   "metadata": {
    "deletable": true,
    "editable": true
   },
   "source": [
    "## L5-9 AND Perceptron"
   ]
  },
  {
   "cell_type": "markdown",
   "metadata": {
    "deletable": true,
    "editable": true
   },
   "source": [
    "### Find the weights and bias for AND perceptron\n",
    "1. Plotting the points on a graph shows that [(0,0), (0,1), (1,0), (1,1)] form a square\n",
    "2. Getting the equation of the diagonal not passing through the origin -> x + y = 1\n",
    "3. The points on the line [(0,1), (1,0)] are `False` outputs for the perceptron\n",
    "4. So the required line will be a parallel line to x + y = 1 away from the origin.\n",
    "5. We can take any value for bias like -1.1, -2, -1.0001\n",
    "6. If we go beyond -2, our line will cross (1, 1) point which is a `Truth` value."
   ]
  },
  {
   "cell_type": "code",
   "execution_count": null,
   "metadata": {
    "collapsed": true,
    "deletable": true,
    "editable": true
   },
   "outputs": [],
   "source": [
    "import pandas as pd"
   ]
  },
  {
   "cell_type": "code",
   "execution_count": null,
   "metadata": {
    "collapsed": true,
    "deletable": true,
    "editable": true
   },
   "outputs": [],
   "source": [
    "# set weight and bias\n",
    "weight1 = 1.0\n",
    "weight2 = 1.0\n",
    "bias = -1.1"
   ]
  },
  {
   "cell_type": "code",
   "execution_count": null,
   "metadata": {
    "collapsed": true,
    "deletable": true,
    "editable": true
   },
   "outputs": [],
   "source": [
    "# take inputs (ideally for real cases, these would be read from some source later)\n",
    "test_inputs = [(0, 0), (0, 1), (1, 0), (1, 1)]\n",
    "# we already know what will be the outputs for above (AND logic table)\n",
    "correct_outputs = [False, False, False, True]"
   ]
  },
  {
   "cell_type": "code",
   "execution_count": null,
   "metadata": {
    "collapsed": false,
    "deletable": true,
    "editable": true
   },
   "outputs": [],
   "source": [
    "outputs = []\n",
    "for test_input, correct_output in zip(test_inputs, correct_outputs):\n",
    "    linear_combination = weight1*test_input[0] + weight2*test_input[1] + bias\n",
    "    output = int (linear_combination >= 0)\n",
    "    is_correct_output = 'Yes' if output == correct_output else 'No'\n",
    "    output_str = 'True' if output == 1 else 'False'\n",
    "    outputs.append([test_input[0], test_input[1], linear_combination, output, output_str, correct_output, is_correct_output])\n",
    "\n",
    "# print(outputs)"
   ]
  },
  {
   "cell_type": "code",
   "execution_count": null,
   "metadata": {
    "collapsed": false,
    "deletable": true,
    "editable": true
   },
   "outputs": [],
   "source": [
    "# Print the output\n",
    "num_wrong = len([output[6] for output in outputs if output[6] == 'No'])\n",
    "output_frame = pd.DataFrame(outputs, columns= ['Input 1', 'Input 2', 'Linear Combination', 'Activation Output', 'Output Label', 'Expected Output', 'Is correct'])\n",
    "print(output_frame.to_string(index=False))"
   ]
  },
  {
   "cell_type": "code",
   "execution_count": null,
   "metadata": {
    "collapsed": false,
    "deletable": true,
    "editable": true
   },
   "outputs": [],
   "source": [
    "# Check how many are correct and proceed\n",
    "if not num_wrong:\n",
    "    print('Nice!  You got it all correct.\\n')\n",
    "else:\n",
    "    print('You got {} wrong.  Keep trying!\\n'.format(num_wrong))"
   ]
  },
  {
   "cell_type": "markdown",
   "metadata": {
    "deletable": true,
    "editable": true
   },
   "source": [
    "## L5-10 OR and NOT perceptrons"
   ]
  },
  {
   "cell_type": "markdown",
   "metadata": {
    "deletable": true,
    "editable": true
   },
   "source": [
    "### Find the weights and bias for OR perceptron\n",
    "1. Plotting the points on a graph shows that [(0,0), (0,1), (1,0), (1,1)] form a square\n",
    "2. Getting the equation of the diagonal not passing through the origin -> x + y = 1\n",
    "3. The points on the line [(0,1), (1,0)] are `True` outputs for the perceptron\n",
    "4. So the required line will be x + y = 1 or a parallel line towards the origin.\n",
    "5. We can take any value for bias like -1.0, -0.9, -0.0001\n",
    "6. If we go beyond 0, our line will cross (0, 0) point which is a `False` value."
   ]
  },
  {
   "cell_type": "code",
   "execution_count": null,
   "metadata": {
    "collapsed": false,
    "deletable": true,
    "editable": true
   },
   "outputs": [],
   "source": [
    "import pandas as pd\n",
    "\n",
    "# set weights and bias\n",
    "weight1 = 1.0\n",
    "weight2 = 1.0\n",
    "bias = -0.00001\n",
    "\n",
    "# take inputs\n",
    "test_inputs = [(0, 0), (0, 1), (1, 0), (1, 1)]\n",
    "correct_outputs = [False, True, True, True]\n",
    "\n",
    "outputs = []\n",
    "for test_input, correct_output in zip(test_inputs, correct_outputs):\n",
    "    linear_combination = weight1*test_input[0] + weight2*test_input[1] + bias\n",
    "    output = int(linear_combination >= 0)\n",
    "    output_str = 'True' if output == 1 else 'False'\n",
    "    is_correct_output = 'Yes' if output == correct_output else 'No'\n",
    "    outputs.append([test_input[0], test_input[1], linear_combination, output, output_str, correct_output, is_correct_output])\n",
    "\n",
    "num_wrong = len([output[6] for output in outputs if output[6] == 'No'])\n",
    "if not num_wrong:\n",
    "    print('Nice!  You got it all correct.\\n')\n",
    "else:\n",
    "    print('You got {} wrong.  Keep trying!\\n'.format(num_wrong))\n",
    "\n",
    "output_frame = pd.DataFrame(outputs, columns=['Input 1', 'Input 2', 'Linear Combination', 'Activation Output', 'Output Label', 'Expected Output', 'Is Correct'])\n",
    "print(output_frame.to_string(index=False))"
   ]
  },
  {
   "cell_type": "markdown",
   "metadata": {
    "deletable": true,
    "editable": true
   },
   "source": [
    "### Find the weights and bias for NOT perceptron\n",
    "1. NOT only cares about one input and ignores the rest.\n",
    "2. Plotting the points on a graph shows that [(0,x), (1,x)] form a regions\n",
    "3. The dividing line between them -> x = 0.5\n",
    "4. The points to the right line [(1, x)] are `False` outputs for the perceptron\n",
    "5. So the required line will be x = 0.5 or a parallel line x = k where 0 < k < 1.\n",
    "6. We can take any value for bias like 1.0, 0.9, 0.0001 and slightly more negative weight"
   ]
  },
  {
   "cell_type": "code",
   "execution_count": null,
   "metadata": {
    "collapsed": false,
    "deletable": true,
    "editable": true
   },
   "outputs": [],
   "source": [
    "import pandas as pd\n",
    "\n",
    "# set the weights and bias\n",
    "weight1 = -1.00001\n",
    "weight2 = 0.0\n",
    "bias = 1.0\n",
    "\n",
    "# Take the inputs\n",
    "test_inputs = [(0, 0), (0, 1), (1, 0), (1, 1)]\n",
    "correct_outputs = [True, True, False, False]\n",
    "\n",
    "outputs = []\n",
    "for test_input,correct_output in zip(test_inputs, correct_outputs):\n",
    "    linear_combination = weight1*test_input[0] + weight2*test_input[1] + bias\n",
    "    output = int(linear_combination >= 0)\n",
    "    output_str = 'True' if output == 1 else 'False'\n",
    "    # print(output, ':', correct_output, ':', output == correct_output)\n",
    "    is_correct_output = 'Yes' if output == correct_output else 'No'\n",
    "    outputs.append([test_input[0], test_input[1], linear_combination, output, output_str, correct_output, is_correct_output])\n",
    "\n",
    "num_wrong = len([output[6] for output in outputs if output[6] == 'No'])\n",
    "if not num_wrong:\n",
    "    print('Nice!  You got it all correct.\\n')\n",
    "else:\n",
    "    print('You got {} wrong.  Keep trying!\\n'.format(num_wrong))\n",
    "    \n",
    "output_frame = pd.DataFrame(outputs, columns = ['Input 1', 'Input 2', 'Linear Combination', 'Activation Output', 'Output Label', 'Expected Output', 'Is Correct'])\n",
    "print(output_frame.to_string(index=False))"
   ]
  },
  {
   "cell_type": "markdown",
   "metadata": {
    "deletable": true,
    "editable": true
   },
   "source": [
    "## L5-11 XOR perceptron\n",
    "1. XOR perceptron is not linearly separable. So we need to chain multiple perceptrons\n",
    "\n",
    "#### Helper Methods\n",
    "Converting the above Logic Gates into helper methods to solve the XOR perceptron"
   ]
  },
  {
   "cell_type": "code",
   "execution_count": null,
   "metadata": {
    "collapsed": true,
    "deletable": true,
    "editable": true
   },
   "outputs": [],
   "source": [
    "def step_perceptron(test_input = [0.0, 0.0], weights = [0.0, 0.0], bias = 0.0):\n",
    "    linear_combination = weights[0]*test_input[0] + weights[1]*test_input[1] + bias\n",
    "    output = int(linear_combination >= 0)\n",
    "    return output == 1\n",
    "    \n",
    "def and_perceptron(test_input = [0.0, 0.0]):\n",
    "    return step_perceptron(test_input, weights = [1.0, 1.0], bias = -1.001)\n",
    "\n",
    "def or_perceptron(test_input = [0.0, 0.0]):\n",
    "    return step_perceptron(test_input, weights = [1.0, 1.0], bias = -0.001)\n",
    "\n",
    "def not_perceptron(test_input = [0.0, 0.0]):\n",
    "    return step_perceptron(test_input, weights = [-1.001, 0.0], bias = 1.0)"
   ]
  },
  {
   "cell_type": "code",
   "execution_count": null,
   "metadata": {
    "collapsed": false,
    "deletable": true,
    "editable": true
   },
   "outputs": [],
   "source": [
    "import pandas as pd\n",
    "\n",
    "# take inputs\n",
    "test_inputs = [(0, 0), (0, 1), (1, 0), (1, 1)]\n",
    "correct_outputs = [False, True, True, False]\n",
    "\n",
    "outputs = []\n",
    "for test_input, correct_output in zip(test_inputs, correct_outputs):\n",
    "    inp_1 = int(and_perceptron([test_input[0], int(not_perceptron([test_input[1], 0]))]))\n",
    "    inp_2 = int(and_perceptron([test_input[1], int(not_perceptron([test_input[0], 0]))]))\n",
    "    # print(test_input[0], test_input[1], inp_1, inp_2, correct_output)\n",
    "    output = or_perceptron([inp_1, inp_2])\n",
    "    output_str = 'True' if output == 1 else 'False'\n",
    "    is_correct_output = 'Yes' if output == correct_output else 'No'\n",
    "    outputs.append([test_input[0], test_input[1], output, output_str, correct_output, is_correct_output])\n",
    "    \n",
    "num_wrong = len([output[5] for output in outputs if output[5] == 'No'])\n",
    "if not num_wrong:\n",
    "    print('Nice!  You got it all correct.\\n')\n",
    "else:\n",
    "    print('You got {} wrong.  Keep trying!\\n'.format(num_wrong))\n",
    "    \n",
    "output_frame = pd.DataFrame(outputs, columns = ['Input 1', 'Input 2', 'Activation Output', 'Output Label', 'Expected Output', 'Is Correct'])\n",
    "print(output_frame.to_string(index=False))"
   ]
  },
  {
   "cell_type": "markdown",
   "metadata": {
    "deletable": true,
    "editable": true
   },
   "source": [
    "## L5-12 Sigmoid Neural Network"
   ]
  },
  {
   "cell_type": "code",
   "execution_count": 1,
   "metadata": {
    "collapsed": false,
    "deletable": true,
    "editable": true
   },
   "outputs": [
    {
     "name": "stdout",
     "output_type": "stream",
     "text": [
      "Output: \n",
      "0.432907095035\n"
     ]
    }
   ],
   "source": [
    "import numpy as np\n",
    "\n",
    "def sigmoid(x):\n",
    "    return 1/(1 + np.exp(-x))\n",
    "\n",
    "inputs = np.array([0.7, -0.3])\n",
    "weights = np.array([0.1, 0.8])\n",
    "bias = -0.1\n",
    "\n",
    "# linear_combination = weights[0]*inputs[0] + weights[1]*inputs[1] + bias\n",
    "linear_combination = np.dot(inputs, weights) + bias\n",
    "output = sigmoid(linear_combination)\n",
    "\n",
    "print('Output: ')\n",
    "print(output)"
   ]
  },
  {
   "cell_type": "markdown",
   "metadata": {},
   "source": [
    "## L5-15 Gradient Descent"
   ]
  },
  {
   "cell_type": "code",
   "execution_count": 4,
   "metadata": {
    "collapsed": false
   },
   "outputs": [
    {
     "name": "stdout",
     "output_type": "stream",
     "text": [
      "Neural Network output:\n",
      "0.517492857666\n",
      "Amount of Error:\n",
      "-0.317492857666\n",
      "Change in Weights:\n",
      "[-0.0039638  -0.01189141]\n"
     ]
    }
   ],
   "source": [
    "import numpy as np\n",
    "\n",
    "# define the sigmoid function\n",
    "def sigmoid(x):\n",
    "    return 1/(1 + np.exp(-x))\n",
    "\n",
    "# define the derivative of sigmoid function\n",
    "def sigmoid_prime(x):\n",
    "    return sigmoid(x)*(1 - sigmoid(x))\n",
    "\n",
    "# Input data\n",
    "x = np.array([0.1, 0.3])\n",
    "\n",
    "# Target\n",
    "y = 0.2\n",
    "\n",
    "# Input weights\n",
    "w = np.array([-0.8, 0.5])\n",
    "\n",
    "# Learning rate\n",
    "learn_rate = 0.5\n",
    "\n",
    "# NN output i.e., prediction\n",
    "nn_output = sigmoid(np.dot(x, w))\n",
    "\n",
    "# derive the error\n",
    "error = y - nn_output\n",
    "\n",
    "# error term (lower delta)\n",
    "error_term = error*sigmoid_prime(np.dot(x, w))\n",
    "\n",
    "# gradient descent step\n",
    "del_w = learn_rate*error_term*x\n",
    "\n",
    "print('Neural Network output:')\n",
    "print(nn_output)\n",
    "print('Amount of Error:')\n",
    "print(error)\n",
    "print('Change in Weights:')\n",
    "print(del_w)"
   ]
  },
  {
   "cell_type": "code",
   "execution_count": null,
   "metadata": {
    "collapsed": true
   },
   "outputs": [],
   "source": []
  }
 ],
 "metadata": {
  "anaconda-cloud": {},
  "kernelspec": {
   "display_name": "Python 3",
   "language": "python",
   "name": "python3"
  },
  "language_info": {
   "codemirror_mode": {
    "name": "ipython",
    "version": 3
   },
   "file_extension": ".py",
   "mimetype": "text/x-python",
   "name": "python",
   "nbconvert_exporter": "python",
   "pygments_lexer": "ipython3",
   "version": "3.5.2"
  },
  "widgets": {
   "state": {},
   "version": "1.1.2"
  }
 },
 "nbformat": 4,
 "nbformat_minor": 0
}
