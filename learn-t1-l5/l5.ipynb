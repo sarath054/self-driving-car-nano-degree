{
 "cells": [
  {
   "cell_type": "markdown",
   "metadata": {},
   "source": [
    "# Introduction To Neural Networks\n",
    "Learn linear regression, perceptron, gradient descent "
   ]
  },
  {
   "cell_type": "markdown",
   "metadata": {},
   "source": [
    "## L5-8 Perceptron"
   ]
  },
  {
   "cell_type": "markdown",
   "metadata": {},
   "source": [
    "### Find the weights and bias for AND perceptron\n",
    "1. Plotting the points on a graph shows that [(0,0), (0,1), (1,0), (1,1)] form a square\n",
    "2. Getting the equation of the diagonal not passing through the origin -> x + y = 1\n",
    "3. The points on the line [(0,1), (1,0)] are False outputs for the perceptron\n",
    "4. So the required line will be a parallel line to x + y = 1 away from the origin."
   ]
  },
  {
   "cell_type": "code",
   "execution_count": null,
   "metadata": {
    "collapsed": true
   },
   "outputs": [],
   "source": [
    "import pandas as pd"
   ]
  },
  {
   "cell_type": "code",
   "execution_count": null,
   "metadata": {
    "collapsed": true
   },
   "outputs": [],
   "source": [
    "# set weight and bias\n",
    "weight1 = 1.0\n",
    "weight2 = 1.0\n",
    "bias = -1.1"
   ]
  },
  {
   "cell_type": "code",
   "execution_count": null,
   "metadata": {
    "collapsed": true
   },
   "outputs": [],
   "source": [
    "# take inputs (ideally for real cases, these would be read from some source later)\n",
    "test_inputs = [(0, 0), (0, 1), (1, 0), (1, 1)]\n",
    "# we already know what will be the outputs for above (AND logic table)\n",
    "correct_outputs = [False, False, False, True]"
   ]
  },
  {
   "cell_type": "code",
   "execution_count": null,
   "metadata": {
    "collapsed": false
   },
   "outputs": [],
   "source": [
    "outputs = []\n",
    "for test_input, correct_output in zip(test_inputs, correct_outputs):\n",
    "    linear_combination = weight1*test_input[0] + weight2*test_input[1] + bias\n",
    "    output = int (linear_combination >= 0)\n",
    "    is_correct_output = 'Yes' if output == correct_output else 'No'\n",
    "    output_str = 'True' if output == 1 else 'False'\n",
    "    outputs.append([test_input[0], test_input[1], linear_combination, output, output_str, correct_output, is_correct_output])\n",
    "\n",
    "# print(outputs)"
   ]
  },
  {
   "cell_type": "code",
   "execution_count": null,
   "metadata": {
    "collapsed": false
   },
   "outputs": [],
   "source": [
    "# Print the output\n",
    "num_wrong = len([output[6] for output in outputs if output[6] == 'No'])\n",
    "output_frame = pd.DataFrame(outputs, columns= ['Input 1', 'Input 2', 'Linear Combination', 'Activation Output', 'Output Label', 'Expected Output', 'Is correct'])\n",
    "print(output_frame.to_string(index=False))"
   ]
  },
  {
   "cell_type": "code",
   "execution_count": null,
   "metadata": {
    "collapsed": false
   },
   "outputs": [],
   "source": [
    "# Check how many are correct and proceed\n",
    "if not num_wrong:\n",
    "    print('Nice!  You got it all correct.\\n')\n",
    "else:\n",
    "    print('You got {} wrong.  Keep trying!\\n'.format(num_wrong))    "
   ]
  }
 ],
 "metadata": {
  "anaconda-cloud": {},
  "kernelspec": {
   "display_name": "Python 3",
   "language": "python",
   "name": "python3"
  },
  "language_info": {
   "codemirror_mode": {
    "name": "ipython",
    "version": 3
   },
   "file_extension": ".py",
   "mimetype": "text/x-python",
   "name": "python",
   "nbconvert_exporter": "python",
   "pygments_lexer": "ipython3",
   "version": "3.5.2"
  },
  "widgets": {
   "state": {},
   "version": "1.1.2"
  }
 },
 "nbformat": 4,
 "nbformat_minor": 0
}
