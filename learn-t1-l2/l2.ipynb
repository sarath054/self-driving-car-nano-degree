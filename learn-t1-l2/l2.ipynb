{
 "cells": [
  {
   "cell_type": "markdown",
   "metadata": {},
   "source": [
    "# Find the Lane Lines on road\n",
    "#### We identify the lane lines by using color\n",
    "#### White color is [255, 255, 255] in [R,G,B] notation"
   ]
  },
  {
   "cell_type": "markdown",
   "metadata": {},
   "source": [
    "## Import the packages necessary"
   ]
  },
  {
   "cell_type": "code",
   "execution_count": null,
   "metadata": {
    "collapsed": true
   },
   "outputs": [],
   "source": [
    "import matplotlib.pyplot as plt\n",
    "import matplotlib.image as mpimg\n",
    "import numpy as np"
   ]
  },
  {
   "cell_type": "markdown",
   "metadata": {},
   "source": [
    "## L2-3 Color Selection"
   ]
  },
  {
   "cell_type": "markdown",
   "metadata": {},
   "source": [
    "### Read image from the assets using matplotlib"
   ]
  },
  {
   "cell_type": "code",
   "execution_count": null,
   "metadata": {
    "collapsed": false
   },
   "outputs": [],
   "source": [
    "image = mpimg.imread('assets/imageL2-3.jpg')\n",
    "print('This image is:', type(image), ' with dimensions: ', image.shape)"
   ]
  },
  {
   "cell_type": "code",
   "execution_count": null,
   "metadata": {
    "collapsed": false
   },
   "outputs": [],
   "source": [
    "# make a copy of the image to work on rather than\n",
    "# working on the original image.\n",
    "ysize = image.shape[0]\n",
    "xsize = image.shape[1]\n",
    "color_select = np.copy(image)\n",
    "\n",
    "# define a rgb_threshold.\n",
    "red_threshold = 200\n",
    "blue_threshold = 200\n",
    "green_threshold = 200\n",
    "rgb_threshold = [red_threshold, blue_threshold, green_threshold]\n",
    "\n",
    "# filter the original image with the given rgb_values and\n",
    "# set values below threshold to black[0,0,0].\n",
    "thresholds = (image[:,:,0] < rgb_threshold[0]) | (image[:,:,1] < rgb_threshold[1]) | (image[:,:,2] < rgb_threshold[2])\n",
    "color_select[thresholds] = [0, 0, 0]\n",
    "\n",
    "# Display the filtered image\n",
    "plt.imshow(color_select)\n",
    "plt.show()"
   ]
  },
  {
   "cell_type": "markdown",
   "metadata": {},
   "source": [
    "## L2-5 Region Of Interest"
   ]
  },
  {
   "cell_type": "markdown",
   "metadata": {},
   "source": [
    "### Triangular region of interest from the bottom of image."
   ]
  },
  {
   "cell_type": "code",
   "execution_count": null,
   "metadata": {
    "collapsed": false
   },
   "outputs": [],
   "source": [
    "region_select = np.copy(image)\n",
    "\n",
    "# Define a triangular region of interest\n",
    "# In image processing, (0, 0) is the top left corner of the image\n",
    "left_bottom = [0, 539]\n",
    "right_bottom = [900, 539]\n",
    "apex = [475, 320]\n",
    "\n",
    "# fit lines (y=Ax+B) to find the triangular region\n",
    "fit_left = np.polyfit((left_bottom[0], apex[0]), (left_bottom[1], apex[1]), 1)\n",
    "fit_right = np.polyfit((right_bottom[0], apex[0]), (right_bottom[1], apex[1]), 1)\n",
    "fit_bottom = np.polyfit((left_bottom[0], right_bottom[0]), (left_bottom[1], right_bottom[1]), 1)\n",
    "\n",
    "# find the region inside the triangle\n",
    "XX, YY = np.meshgrid(np.arange(0, xsize), np.arange(0, ysize))\n",
    "region_thresholds = (YY > (XX*fit_left[0] + fit_left[1])) & (YY > (XX*fit_right[0] + fit_right[1])) & (YY < (XX*fit_bottom[0] + fit_bottom[1]))\n",
    "\n",
    "# color the pixels which are inside the R.O.I\n",
    "region_select[region_thresholds] = [255, 0, 0] #red\n",
    "\n",
    "# Display the mask\n",
    "plt.imshow(region_select)\n",
    "plt.show()"
   ]
  },
  {
   "cell_type": "markdown",
   "metadata": {},
   "source": [
    "## L2-6 Combine both color and ROI"
   ]
  },
  {
   "cell_type": "code",
   "execution_count": null,
   "metadata": {
    "collapsed": false
   },
   "outputs": [],
   "source": [
    "line_image = np.copy(image)\n",
    "\n",
    "# Find out where the image is colored right and in the region\n",
    "line_image[~thresholds & region_thresholds] = [255, 0, 0]\n",
    "\n",
    "plt.imshow(color_select)\n",
    "plt.imshow(line_image)\n",
    "plt.show()"
   ]
  },
  {
   "cell_type": "markdown",
   "metadata": {},
   "source": [
    "## L2-11 Canny Edge Detection\n",
    "To Find the lane lines of any color, we need to first detect the edges\n",
    "To find the edges,\n",
    "1. To easily find the edges, we will first GrayScale the image\n",
    "2. Then we will apply a Blur method to reduce the noise\n",
    "3. And finally apply the `Canny` method that from OpenCV"
   ]
  },
  {
   "cell_type": "code",
   "execution_count": null,
   "metadata": {
    "collapsed": true
   },
   "outputs": [],
   "source": [
    "import cv2"
   ]
  },
  {
   "cell_type": "code",
   "execution_count": null,
   "metadata": {
    "collapsed": false
   },
   "outputs": [],
   "source": [
    "image = mpimg.imread('assets/imageL2-11.jpg')\n",
    "\n",
    "plt.imshow(image)\n",
    "plt.show()"
   ]
  },
  {
   "cell_type": "code",
   "execution_count": null,
   "metadata": {
    "collapsed": false
   },
   "outputs": [],
   "source": [
    "img_gray = cv2.cvtColor(image, cv2.COLOR_RGB2GRAY)\n",
    "\n",
    "plt.imshow(img_gray)\n",
    "plt.show()"
   ]
  },
  {
   "cell_type": "code",
   "execution_count": null,
   "metadata": {
    "collapsed": false
   },
   "outputs": [],
   "source": [
    "# apply gaussian blur to the image\n",
    "kernel_size = 5\n",
    "img_blur = cv2.GaussianBlur(img_gray, (kernel_size, kernel_size), 0)\n",
    "\n",
    "plt.imshow(img_blur)\n",
    "plt.show()"
   ]
  },
  {
   "cell_type": "code",
   "execution_count": null,
   "metadata": {
    "collapsed": false
   },
   "outputs": [],
   "source": [
    "# Apply Canny edge detection with suitable parameter\n",
    "low_threshold = 50\n",
    "high_threshold = 150\n",
    "img_edges = cv2.Canny(img_blur, low_threshold, high_threshold)\n",
    "\n",
    "plt.imshow(img_edges, cmap='Greys_r')\n",
    "plt.show()"
   ]
  },
  {
   "cell_type": "markdown",
   "metadata": {},
   "source": [
    "# L2-14 Hough Transform to Find Lines\n",
    "Find the lines in the edge detected image using the hough transform provided by cv2"
   ]
  },
  {
   "cell_type": "code",
   "execution_count": null,
   "metadata": {
    "collapsed": false
   },
   "outputs": [],
   "source": [
    "rho = 1\n",
    "theta = np.pi/180\n",
    "threshold = 1\n",
    "min_line_length = 10\n",
    "max_line_gap = 1\n",
    "line_image = np.copy(image)*0\n",
    "\n",
    "# Run Hough on edge detected image\n",
    "lines = cv2.HoughLinesP(img_edges, rho, theta, threshold, np.array([]), min_line_length, max_line_gap)\n",
    "\n",
    "# Iterate over the output \"lines\" and draw lines on the line_image\n",
    "for line in lines:\n",
    "    for x1,y1,x2,y2 in line:\n",
    "        cv2.line(line_image,(x1,y1),(x2,y2),(255,0,0),10)\n",
    "\n",
    "# Create a \"color\" binary image to combine with line image\n",
    "color_edges = np.dstack((img_edges, img_edges, img_edges)) \n",
    "\n",
    "# Draw the lines on the edge image\n",
    "combo = cv2.addWeighted(color_edges, 0.8, line_image, 1, 0) \n",
    "\n",
    "plt.imshow(combo)\n",
    "plt.show()"
   ]
  },
  {
   "cell_type": "markdown",
   "metadata": {},
   "source": [
    "## L2-15 Detect Lines in the R.O.I\n",
    "Create a masked image and then apply the hough transform."
   ]
  },
  {
   "cell_type": "code",
   "execution_count": null,
   "metadata": {
    "collapsed": false
   },
   "outputs": [],
   "source": [
    "img = mpimg.imread('assets/imageL2-11.jpg')\n",
    "\n",
    "img_gray = cv2.cvtColor(img, cv2.COLOR_RGB2GRAY)\n",
    "\n",
    "kernel_size = 5\n",
    "img_blur = cv2.GaussianBlur(img_gray, (kernel_size, kernel_size), 0)\n",
    "\n",
    "low_threshold = 50\n",
    "high_threshold = 150\n",
    "img_edge = cv2.Canny(img_blur, low_threshold, high_threshold)\n",
    "\n",
    "# Create a mask\n",
    "mask = np.zeros_like(edges)   \n",
    "ignore_mask_color = 255   \n",
    "\n",
    "# This time we are defining a four sided polygon to mask\n",
    "imshape = image.shape\n",
    "vertices = np.array([[(0,imshape[0]),(450, 290), (490, 290), (imshape[1],imshape[0])]], dtype=np.int32)\n",
    "cv2.fillPoly(mask, vertices, ignore_mask_color)\n",
    "img_mask = cv2.bitwise_and(edges, mask)\n",
    "\n",
    "rho = 1\n",
    "thetha = np.pi/180\n",
    "threshold = 1\n",
    "min_line_length = 10\n",
    "max_line_gap = 1\n",
    "img_line = np.copy(image)*0\n",
    "\n",
    "lines = cv2.HoughLinesP(img_mask, rho, thetha, threshold, min_line_length, max_line_gap)\n",
    "\n",
    "for line in lines:\n",
    "    for x1,y1,x2,y2 in line:\n",
    "        cv2.line(img_line, (x1, y1), (x2, y2), (255, 0, 0), 10)\n",
    "        \n",
    "img_color_edges = np.dstack((img_edges, img_edges, img_edges))\n",
    "\n",
    "img_line_edges = cv2.addWeighted(img_color_edges, 0.8, img_line, 1, 0)\n",
    "\n",
    "plt.imshow(img_line_edges)\n",
    "plt.show()"
   ]
  },
  {
   "cell_type": "markdown",
   "metadata": {},
   "source": [
    "# Move on to the project...."
   ]
  }
 ],
 "metadata": {
  "anaconda-cloud": {},
  "kernelspec": {
   "display_name": "Python 3",
   "language": "python",
   "name": "python3"
  },
  "language_info": {
   "codemirror_mode": {
    "name": "ipython",
    "version": 3
   },
   "file_extension": ".py",
   "mimetype": "text/x-python",
   "name": "python",
   "nbconvert_exporter": "python",
   "pygments_lexer": "ipython3",
   "version": "3.5.2"
  },
  "widgets": {
   "state": {},
   "version": "1.1.2"
  }
 },
 "nbformat": 4,
 "nbformat_minor": 0
}
